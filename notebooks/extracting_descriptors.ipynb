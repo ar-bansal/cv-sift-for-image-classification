{
 "cells": [
  {
   "cell_type": "code",
   "execution_count": 1,
   "metadata": {},
   "outputs": [],
   "source": [
    "import sys\n",
    "import os\n",
    "sys.path.append(os.path.abspath(os.path.join('..')))\n",
    "\n",
    "from src.data_utils.dataset import Dataset\n",
    "import h5py\n",
    "import numpy as np\n",
    "import cv2"
   ]
  },
  {
   "cell_type": "code",
   "execution_count": 52,
   "metadata": {},
   "outputs": [],
   "source": [
    "def extract_descriptors(datatype):\n",
    "    ds = Dataset(datatype)\n",
    "    images, suits, numbers = ds.load_data()\n",
    "\n",
    "    sift = cv2.SIFT().create()\n",
    "    descriptors = []\n",
    "\n",
    "    # Create a new array for storing labels for each descriptor\n",
    "    desc_suits = []\n",
    "    desc_numbers = []\n",
    "\n",
    "    for img, suit, num in zip(images, suits, numbers):\n",
    "        kp, desc = sift.detectAndCompute(img, None)\n",
    "\n",
    "        descriptors.append(desc)\n",
    "        desc_suits.append(np.array([[suit] * len(desc)]).reshape(-1, 1))\n",
    "        desc_numbers.append(np.array([[num] * len(desc)]).reshape(-1, 1))\n",
    "\n",
    "    descriptors = np.vstack(descriptors)\n",
    "    suits = np.vstack(desc_suits)\n",
    "    numbers = np.vstack(desc_numbers)\n",
    "\n",
    "    print(f\"Extracted descriptors for {datatype}\")\n",
    "\n",
    "    return descriptors, suits, numbers\n",
    "\n",
    "\n",
    "def store_descriptors(datatype):\n",
    "    desc, suits, nums = extract_descriptors(datatype)\n",
    "\n",
    "    with h5py.File(f\"../data/{datatype}_images.h5\", \"w\") as f:\n",
    "        f.create_dataset(f\"{datatype}_descriptors\", data=desc)\n",
    "    \n",
    "    with h5py.File(f\"../data/{datatype}_suits.h5\", \"w\") as f:\n",
    "        f.create_dataset(f\"{datatype}_suits\", data=suits.astype(\"S8\"))\n",
    "\n",
    "    with h5py.File(f\"../data/{datatype}_numbers.h5\", \"w\") as f:\n",
    "        f.create_dataset(f\"{datatype}_numbers\", data=nums.astype(\"S6\"))\n",
    "\n",
    "    print(f\"Stored descriptors for {datatype}\")\n",
    "\n",
    "    "
   ]
  },
  {
   "cell_type": "code",
   "execution_count": 53,
   "metadata": {},
   "outputs": [
    {
     "name": "stdout",
     "output_type": "stream",
     "text": [
      "Loaded 7509 images and labels.\n",
      "Extracted descriptors for train\n",
      "Stored descriptors for train\n",
      "Loaded 260 images and labels.\n",
      "Extracted descriptors for test\n",
      "Stored descriptors for test\n",
      "Loaded 260 images and labels.\n",
      "Extracted descriptors for val\n",
      "Stored descriptors for val\n"
     ]
    }
   ],
   "source": [
    "for ds in [\"train\", \"test\", \"val\"]:\n",
    "    store_descriptors(ds)"
   ]
  }
 ],
 "metadata": {
  "kernelspec": {
   "display_name": "dsml",
   "language": "python",
   "name": "python3"
  },
  "language_info": {
   "codemirror_mode": {
    "name": "ipython",
    "version": 3
   },
   "file_extension": ".py",
   "mimetype": "text/x-python",
   "name": "python",
   "nbconvert_exporter": "python",
   "pygments_lexer": "ipython3",
   "version": "3.10.14"
  }
 },
 "nbformat": 4,
 "nbformat_minor": 2
}
