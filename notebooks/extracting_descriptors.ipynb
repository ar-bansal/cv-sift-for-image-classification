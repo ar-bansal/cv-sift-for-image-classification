{
 "cells": [
  {
   "cell_type": "code",
   "execution_count": 1,
   "metadata": {},
   "outputs": [],
   "source": [
    "import sys\n",
    "import os\n",
    "sys.path.append(os.path.abspath(os.path.join('..')))\n",
    "\n",
    "from src.data_utils.dataset import Dataset\n",
    "import h5py\n",
    "import numpy as np\n",
    "import cv2"
   ]
  },
  {
   "cell_type": "code",
   "execution_count": 4,
   "metadata": {},
   "outputs": [],
   "source": [
    "def extract_descriptors(datatype):\n",
    "    ds = Dataset(datatype)\n",
    "    images, suits, numbers = ds.load_data()\n",
    "\n",
    "    sift = cv2.SIFT().create()\n",
    "    descriptors = []\n",
    "\n",
    "    # Create a new array for storing labels for each descriptor\n",
    "    desc_suits = []\n",
    "    desc_numbers = []\n",
    "\n",
    "    for img, suit, num in zip(images, suits, numbers):\n",
    "        kp, desc = sift.detectAndCompute(img, None)\n",
    "\n",
    "        descriptors.append(desc)\n",
    "        desc_suits.append(np.array([[suit] * len(desc)]).reshape(-1, 1))\n",
    "        desc_numbers.append(np.array([[num] * len(desc)]).reshape(-1, 1))\n",
    "\n",
    "    print(f\"Extracted descriptors for {datatype}\")\n",
    "\n",
    "    return descriptors, desc_suits, desc_numbers\n",
    "\n",
    "\n",
    "def store_descriptors(datatype):\n",
    "    desc, suits, nums = extract_descriptors(datatype)\n",
    "\n",
    "    with h5py.File(f\"../data/{datatype}_descriptors_and_labels.h5\", \"w\") as f:\n",
    "        desc_group = f.create_group(\"descriptors\")\n",
    "        for idx, arr in enumerate(desc):\n",
    "            desc_group.create_dataset(str(idx), data=arr)\n",
    "\n",
    "        suits_group = f.create_group(\"suits\")\n",
    "        for idx, arr in enumerate(suits):\n",
    "            suits_group.create_dataset(str(idx), data=arr.astype(\"S8\"))\n",
    "\n",
    "        nums_group = f.create_group(\"numbers\")\n",
    "        for idx, arr in enumerate(nums):\n",
    "            nums_group.create_dataset(str(idx), data=arr.astype(\"S6\"))\n",
    "\n",
    "    print(f\"Stored descriptors for {datatype}\\n\")\n",
    "\n",
    "    "
   ]
  },
  {
   "cell_type": "code",
   "execution_count": 5,
   "metadata": {},
   "outputs": [
    {
     "name": "stdout",
     "output_type": "stream",
     "text": [
      "Loaded 7509 images and labels.\n",
      "Extracted descriptors for train\n",
      "Stored descriptors for train\n",
      "\n",
      "Loaded 260 images and labels.\n",
      "Extracted descriptors for test\n",
      "Stored descriptors for test\n",
      "\n",
      "Loaded 260 images and labels.\n",
      "Extracted descriptors for val\n",
      "Stored descriptors for val\n",
      "\n"
     ]
    }
   ],
   "source": [
    "for dt in [\"train\", \"test\", \"val\"]:\n",
    "    store_descriptors(dt)"
   ]
  },
  {
   "cell_type": "code",
   "execution_count": 2,
   "metadata": {},
   "outputs": [],
   "source": [
    "val_ds = Dataset(\"train\")\n",
    "desc, suits, nums = val_ds.load_descriptors(n=5)"
   ]
  },
  {
   "cell_type": "code",
   "execution_count": 30,
   "metadata": {},
   "outputs": [
    {
     "name": "stdout",
     "output_type": "stream",
     "text": [
      "<KeysViewHDF5 ['descriptors', 'numbers', 'suits']>\n"
     ]
    }
   ],
   "source": [
    "with h5py.File(\"../data/val_descriptors_and_labels.h5\", \"r\") as valf:\n",
    "    print(valf.keys())\n",
    "\n",
    "    desc_group = valf[\"descriptors\"]\n",
    "    descriptors = [desc_group[img][:] for img in desc_group]\n",
    "\n",
    "    suits_group = valf[\"suits\"]\n",
    "    suits = [suits_group[img][:] for img in suits_group]\n",
    "\n",
    "    nums_group = valf[\"numbers\"]\n",
    "    numbers = [nums_group[img][:] for img in nums_group]"
   ]
  }
 ],
 "metadata": {
  "kernelspec": {
   "display_name": "dsml",
   "language": "python",
   "name": "python3"
  },
  "language_info": {
   "codemirror_mode": {
    "name": "ipython",
    "version": 3
   },
   "file_extension": ".py",
   "mimetype": "text/x-python",
   "name": "python",
   "nbconvert_exporter": "python",
   "pygments_lexer": "ipython3",
   "version": "3.10.14"
  }
 },
 "nbformat": 4,
 "nbformat_minor": 2
}
