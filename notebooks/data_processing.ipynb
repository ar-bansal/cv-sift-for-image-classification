{
 "cells": [
  {
   "cell_type": "code",
   "execution_count": 1,
   "metadata": {},
   "outputs": [],
   "source": [
    "import os\n",
    "import numpy as np\n",
    "import cv2\n",
    "import glob\n",
    "import h5py\n",
    "from typing import Literal, Tuple"
   ]
  },
  {
   "cell_type": "code",
   "execution_count": 2,
   "metadata": {},
   "outputs": [],
   "source": [
    "class Dataset:\n",
    "    def __init__(self, data_type: Literal[\"train\", \"test\", \"val\"]) -> None:\n",
    "        self.data_type = data_type\n",
    "        match data_type:\n",
    "            case \"train\":\n",
    "                self.data_path = \"../../data/playing_cards/train/\"\n",
    "            case \"test\":\n",
    "                self.data_path = \"../../data/playing_cards/test/\"\n",
    "            case \"val\":\n",
    "                self.data_path = \"../../data/playing_cards/val/\"\n",
    "    \n",
    "    \n",
    "    def load_data(self) -> Tuple[np.ndarray, np.ndarray, np.ndarray]:\n",
    "        \"\"\"\n",
    "        Load and return the images and their labels as numpy array. \n",
    "\n",
    "        Returns: \n",
    "            - images: Array of images\n",
    "            - suits: Suit of the image\n",
    "            - numbers: Card number of the image\n",
    "        \"\"\"\n",
    "        images = []\n",
    "        labels = os.listdir(self.data_path)\n",
    "\n",
    "        # Separate columns for number and suit\n",
    "        suits = []\n",
    "        numbers = []\n",
    "\n",
    "        for label in labels:\n",
    "            if \"joker\" in label:\n",
    "                continue\n",
    "\n",
    "            for img_path in glob.glob(\n",
    "                os.path.join(self.data_path, label, \"*.jpg\")\n",
    "            ):\n",
    "                img = cv2.imread(img_path, cv2.IMREAD_GRAYSCALE)\n",
    "                images.append(img)\n",
    "\n",
    "                number, _, suit = label.split()\n",
    "                \n",
    "                suits.append(suit)\n",
    "                numbers.append(number)\n",
    "\n",
    "        self.images = np.array(images)\n",
    "        self.suits = np.array(suits)\n",
    "        self.numbers = np.array(numbers)\n",
    "\n",
    "        print(f\"Loaded {len(self.images)} images and labels.\")\n",
    "\n",
    "        return self.images, self.suits, self.numbers\n",
    "    \n",
    "\n",
    "    def load_descriptors(self):\n",
    "        \"\"\"\n",
    "        Load and return the image descriptors and their labels as numpy array. \n",
    "\n",
    "        Returns: \n",
    "            - descriptors: Array of descriptors\n",
    "            - suits: Suit of the image\n",
    "            - numbers: Card number of the image\n",
    "        \"\"\"\n",
    "\n",
    "        with h5py.File(f\"../data/{self.data_type}_descriptors.h5\", \"r\") as f:\n",
    "            descriptors = f[f\"{self.data_type}_descriptors\"][:]\n",
    "\n",
    "        with h5py.File(f\"../data/{self.data_type}_suits.h5\", \"r\") as f:\n",
    "            suits = f[f\"{self.data_type}_suits\"][:]\n",
    "\n",
    "        with h5py.File(f\"../data/{self.data_type}_numbers.h5\", \"r\") as f:\n",
    "            numbers = f[f\"{self.data_type}_numbers\"][:]    \n",
    "\n",
    "\n",
    "        return descriptors, suits, numbers"
   ]
  },
  {
   "cell_type": "code",
   "execution_count": 41,
   "metadata": {},
   "outputs": [
    {
     "name": "stdout",
     "output_type": "stream",
     "text": [
      "Loaded 260 images and labels.\n"
     ]
    }
   ],
   "source": [
    "train = Dataset(\"test\")\n",
    "\n",
    "i, s, n = train.load_data()"
   ]
  },
  {
   "cell_type": "code",
   "execution_count": 42,
   "metadata": {},
   "outputs": [
    {
     "data": {
      "text/plain": [
       "((260, 224, 224), (260,), (260,))"
      ]
     },
     "execution_count": 42,
     "metadata": {},
     "output_type": "execute_result"
    }
   ],
   "source": [
    "i.shape, s.shape, n.shape"
   ]
  }
 ],
 "metadata": {
  "kernelspec": {
   "display_name": "dsml",
   "language": "python",
   "name": "python3"
  },
  "language_info": {
   "codemirror_mode": {
    "name": "ipython",
    "version": 3
   },
   "file_extension": ".py",
   "mimetype": "text/x-python",
   "name": "python",
   "nbconvert_exporter": "python",
   "pygments_lexer": "ipython3",
   "version": "3.10.14"
  }
 },
 "nbformat": 4,
 "nbformat_minor": 2
}
